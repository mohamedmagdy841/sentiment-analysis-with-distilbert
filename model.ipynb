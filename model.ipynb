{
 "cells": [
  {
   "cell_type": "code",
   "execution_count": 1,
   "id": "80f0c57d",
   "metadata": {
    "ExecuteTime": {
     "end_time": "2024-05-12T04:30:28.305087Z",
     "start_time": "2024-05-12T04:30:17.874052Z"
    }
   },
   "outputs": [],
   "source": [
    "from transformers import get_linear_schedule_with_warmup\n",
    "from transformers import DistilBertForSequenceClassification,DistilBertTokenizerFast\n",
    "from train_eval import train\n",
    "from data_pipeline import data_pipeline\n",
    "import evaluate\n",
    "import torch\n",
    "from torch import nn\n",
    "from torch.optim import AdamW, Adam\n",
    "from torch.utils.data import Dataset, DataLoader\n",
    "from collections import defaultdict\n",
    "import copy\n",
    "import numpy as np\n",
    "import pandas as pd\n",
    "import matplotlib.pyplot as plt\n",
    "import seaborn as sns\n",
    "from tqdm.auto import tqdm, trange\n",
    "from sklearn.model_selection import train_test_split\n",
    "from sklearn.metrics import confusion_matrix, classification_report\n",
    "\n",
    "import warnings\n",
    "warnings.filterwarnings(\"ignore\")\n",
    "\n",
    "RANDOM_SEED = 42\n",
    "np.random.seed(RANDOM_SEED)\n",
    "torch.manual_seed(RANDOM_SEED)\n",
    "torch.cuda.manual_seed(RANDOM_SEED)\n",
    "device = torch.device(\"cuda\" if torch.cuda.is_available() else \"cpu\")"
   ]
  },
  {
   "cell_type": "code",
   "execution_count": 2,
   "id": "6e9eb4e6",
   "metadata": {
    "ExecuteTime": {
     "end_time": "2024-05-12T04:30:28.337236Z",
     "start_time": "2024-05-12T04:30:28.334459Z"
    }
   },
   "outputs": [],
   "source": [
    "# hyperparameters\n",
    "MAX_LEN = 150\n",
    "BATCH_SIZE = 16\n",
    "EPOCHS = 5\n",
    "LR = 1e-5"
   ]
  },
  {
   "cell_type": "code",
   "execution_count": 3,
   "id": "4a78e8fa",
   "metadata": {
    "ExecuteTime": {
     "end_time": "2024-05-12T04:30:28.418381Z",
     "start_time": "2024-05-12T04:30:28.365143Z"
    }
   },
   "outputs": [],
   "source": [
    "data = pd.read_csv('data.csv')"
   ]
  },
  {
   "cell_type": "code",
   "execution_count": 44,
   "id": "7b1506ac",
   "metadata": {
    "ExecuteTime": {
     "end_time": "2024-05-01T11:47:54.261035Z",
     "start_time": "2024-05-01T11:47:54.252869Z"
    }
   },
   "outputs": [
    {
     "data": {
      "text/html": [
       "<div>\n",
       "<style scoped>\n",
       "    .dataframe tbody tr th:only-of-type {\n",
       "        vertical-align: middle;\n",
       "    }\n",
       "\n",
       "    .dataframe tbody tr th {\n",
       "        vertical-align: top;\n",
       "    }\n",
       "\n",
       "    .dataframe thead th {\n",
       "        text-align: right;\n",
       "    }\n",
       "</style>\n",
       "<table border=\"1\" class=\"dataframe\">\n",
       "  <thead>\n",
       "    <tr style=\"text-align: right;\">\n",
       "      <th></th>\n",
       "      <th>content</th>\n",
       "      <th>sentiment</th>\n",
       "    </tr>\n",
       "  </thead>\n",
       "  <tbody>\n",
       "    <tr>\n",
       "      <th>4359</th>\n",
       "      <td>Fine</td>\n",
       "      <td>1</td>\n",
       "    </tr>\n",
       "    <tr>\n",
       "      <th>2494</th>\n",
       "      <td>Super cool that you've added a garbage AI feat...</td>\n",
       "      <td>0</td>\n",
       "    </tr>\n",
       "    <tr>\n",
       "      <th>949</th>\n",
       "      <td>Quit nice though tiktok lite is faster in load...</td>\n",
       "      <td>2</td>\n",
       "    </tr>\n",
       "    <tr>\n",
       "      <th>8045</th>\n",
       "      <td>It's good but I'd appreciate it if they remove...</td>\n",
       "      <td>2</td>\n",
       "    </tr>\n",
       "    <tr>\n",
       "      <th>6980</th>\n",
       "      <td>Niraj💔😇 bihari</td>\n",
       "      <td>2</td>\n",
       "    </tr>\n",
       "    <tr>\n",
       "      <th>5996</th>\n",
       "      <td>\"Open in External Browser\" has been broken for...</td>\n",
       "      <td>0</td>\n",
       "    </tr>\n",
       "    <tr>\n",
       "      <th>2752</th>\n",
       "      <td>More updates come, more bugs come. It's sicken...</td>\n",
       "      <td>0</td>\n",
       "    </tr>\n",
       "    <tr>\n",
       "      <th>9519</th>\n",
       "      <td>Unman m baba</td>\n",
       "      <td>2</td>\n",
       "    </tr>\n",
       "    <tr>\n",
       "      <th>8777</th>\n",
       "      <td>This app is really good! But filters is not ab...</td>\n",
       "      <td>0</td>\n",
       "    </tr>\n",
       "    <tr>\n",
       "      <th>11163</th>\n",
       "      <td>The app's performance is degrading. It crashes...</td>\n",
       "      <td>0</td>\n",
       "    </tr>\n",
       "  </tbody>\n",
       "</table>\n",
       "</div>"
      ],
      "text/plain": [
       "                                                 content  sentiment\n",
       "4359                                                Fine          1\n",
       "2494   Super cool that you've added a garbage AI feat...          0\n",
       "949    Quit nice though tiktok lite is faster in load...          2\n",
       "8045   It's good but I'd appreciate it if they remove...          2\n",
       "6980                                      Niraj💔😇 bihari          2\n",
       "5996   \"Open in External Browser\" has been broken for...          0\n",
       "2752   More updates come, more bugs come. It's sicken...          0\n",
       "9519                                        Unman m baba          2\n",
       "8777   This app is really good! But filters is not ab...          0\n",
       "11163  The app's performance is degrading. It crashes...          0"
      ]
     },
     "execution_count": 44,
     "metadata": {},
     "output_type": "execute_result"
    }
   ],
   "source": [
    "data_view = data.sample(frac = 1)\n",
    "data_view.head(10)"
   ]
  },
  {
   "cell_type": "code",
   "execution_count": 4,
   "id": "7242d092",
   "metadata": {
    "ExecuteTime": {
     "end_time": "2024-05-12T04:30:29.291847Z",
     "start_time": "2024-05-12T04:30:28.452666Z"
    }
   },
   "outputs": [],
   "source": [
    "PRE_TRAINED_MODEL_NAME = 'distilbert/distilbert-base-uncased'\n",
    "tokenizer = DistilBertTokenizerFast.from_pretrained(PRE_TRAINED_MODEL_NAME)"
   ]
  },
  {
   "cell_type": "code",
   "execution_count": 5,
   "id": "acaa6757",
   "metadata": {
    "ExecuteTime": {
     "end_time": "2024-05-12T04:30:33.054366Z",
     "start_time": "2024-05-12T04:30:32.461046Z"
    }
   },
   "outputs": [],
   "source": [
    "train_dataloader, val_dataloader, test_dataloader = data_pipeline(tokenizer,data,BATCH_SIZE,MAX_LEN)"
   ]
  },
  {
   "cell_type": "code",
   "execution_count": 6,
   "id": "a16a161d",
   "metadata": {
    "ExecuteTime": {
     "end_time": "2024-05-12T04:30:33.382844Z",
     "start_time": "2024-05-12T04:30:33.379896Z"
    }
   },
   "outputs": [],
   "source": [
    "class_names = ['negative', 'neutral', 'positive']"
   ]
  },
  {
   "cell_type": "code",
   "execution_count": 7,
   "id": "3166cf05",
   "metadata": {
    "ExecuteTime": {
     "end_time": "2024-05-12T04:30:35.324109Z",
     "start_time": "2024-05-12T04:30:34.365287Z"
    }
   },
   "outputs": [
    {
     "name": "stderr",
     "output_type": "stream",
     "text": [
      "Some weights of DistilBertForSequenceClassification were not initialized from the model checkpoint at distilbert/distilbert-base-uncased and are newly initialized: ['classifier.bias', 'classifier.weight', 'pre_classifier.bias', 'pre_classifier.weight']\n",
      "You should probably TRAIN this model on a down-stream task to be able to use it for predictions and inference.\n"
     ]
    }
   ],
   "source": [
    "model = DistilBertForSequenceClassification.from_pretrained(PRE_TRAINED_MODEL_NAME, num_labels=3).to(device)"
   ]
  },
  {
   "cell_type": "code",
   "execution_count": 8,
   "id": "007b69f1",
   "metadata": {
    "ExecuteTime": {
     "end_time": "2024-05-12T04:30:35.880755Z",
     "start_time": "2024-05-12T04:30:35.876239Z"
    }
   },
   "outputs": [],
   "source": [
    "optimizer = AdamW(model.parameters(), lr=LR)\n",
    "\n",
    "total_steps = len(train_dataloader)*EPOCHS\n",
    "scheduler = get_linear_schedule_with_warmup(\n",
    "    optimizer,\n",
    "    num_warmup_steps=0,\n",
    "    num_training_steps=total_steps\n",
    ")"
   ]
  },
  {
   "cell_type": "markdown",
   "id": "a783476b",
   "metadata": {},
   "source": [
    "### Training Loop"
   ]
  },
  {
   "cell_type": "code",
   "execution_count": 16,
   "id": "55f4ad18",
   "metadata": {
    "ExecuteTime": {
     "end_time": "2024-05-01T11:24:38.075275Z",
     "start_time": "2024-05-01T11:14:18.499497Z"
    }
   },
   "outputs": [
    {
     "data": {
      "application/vnd.jupyter.widget-view+json": {
       "model_id": "2d965e7993a14a6c93fc7a18bc520fb5",
       "version_major": 2,
       "version_minor": 0
      },
      "text/plain": [
       "Epoch:   0%|          | 0/5 [00:00<?, ?it/s]"
      ]
     },
     "metadata": {},
     "output_type": "display_data"
    },
    {
     "data": {
      "application/vnd.jupyter.widget-view+json": {
       "model_id": "",
       "version_major": 2,
       "version_minor": 0
      },
      "text/plain": [
       "train_steps:   0%|          | 0/675 [00:00<?, ?it/s]"
      ]
     },
     "metadata": {},
     "output_type": "display_data"
    },
    {
     "data": {
      "application/vnd.jupyter.widget-view+json": {
       "model_id": "",
       "version_major": 2,
       "version_minor": 0
      },
      "text/plain": [
       "val_steps:   0%|          | 0/75 [00:00<?, ?it/s]"
      ]
     },
     "metadata": {},
     "output_type": "display_data"
    },
    {
     "name": "stdout",
     "output_type": "stream",
     "text": [
      "Train loss: 0.9279 | Train accuracy: 54%\n",
      "Val   loss: 0.832 | Val   accuracy: 63%\n"
     ]
    },
    {
     "data": {
      "application/vnd.jupyter.widget-view+json": {
       "model_id": "",
       "version_major": 2,
       "version_minor": 0
      },
      "text/plain": [
       "train_steps:   0%|          | 0/675 [00:00<?, ?it/s]"
      ]
     },
     "metadata": {},
     "output_type": "display_data"
    },
    {
     "data": {
      "application/vnd.jupyter.widget-view+json": {
       "model_id": "",
       "version_major": 2,
       "version_minor": 0
      },
      "text/plain": [
       "val_steps:   0%|          | 0/75 [00:00<?, ?it/s]"
      ]
     },
     "metadata": {},
     "output_type": "display_data"
    },
    {
     "name": "stdout",
     "output_type": "stream",
     "text": [
      "Train loss: 0.8069 | Train accuracy: 62%\n",
      "Val   loss: 0.8208 | Val   accuracy: 62%\n"
     ]
    },
    {
     "data": {
      "application/vnd.jupyter.widget-view+json": {
       "model_id": "",
       "version_major": 2,
       "version_minor": 0
      },
      "text/plain": [
       "train_steps:   0%|          | 0/675 [00:00<?, ?it/s]"
      ]
     },
     "metadata": {},
     "output_type": "display_data"
    },
    {
     "data": {
      "application/vnd.jupyter.widget-view+json": {
       "model_id": "",
       "version_major": 2,
       "version_minor": 0
      },
      "text/plain": [
       "val_steps:   0%|          | 0/75 [00:00<?, ?it/s]"
      ]
     },
     "metadata": {},
     "output_type": "display_data"
    },
    {
     "name": "stdout",
     "output_type": "stream",
     "text": [
      "Train loss: 0.7249 | Train accuracy: 68%\n",
      "Val   loss: 0.837 | Val   accuracy: 62%\n"
     ]
    },
    {
     "data": {
      "application/vnd.jupyter.widget-view+json": {
       "model_id": "",
       "version_major": 2,
       "version_minor": 0
      },
      "text/plain": [
       "train_steps:   0%|          | 0/675 [00:00<?, ?it/s]"
      ]
     },
     "metadata": {},
     "output_type": "display_data"
    },
    {
     "data": {
      "application/vnd.jupyter.widget-view+json": {
       "model_id": "",
       "version_major": 2,
       "version_minor": 0
      },
      "text/plain": [
       "val_steps:   0%|          | 0/75 [00:00<?, ?it/s]"
      ]
     },
     "metadata": {},
     "output_type": "display_data"
    },
    {
     "name": "stdout",
     "output_type": "stream",
     "text": [
      "Train loss: 0.6514 | Train accuracy: 72%\n",
      "Val   loss: 0.8664 | Val   accuracy: 61%\n"
     ]
    },
    {
     "data": {
      "application/vnd.jupyter.widget-view+json": {
       "model_id": "",
       "version_major": 2,
       "version_minor": 0
      },
      "text/plain": [
       "train_steps:   0%|          | 0/675 [00:00<?, ?it/s]"
      ]
     },
     "metadata": {},
     "output_type": "display_data"
    },
    {
     "data": {
      "application/vnd.jupyter.widget-view+json": {
       "model_id": "",
       "version_major": 2,
       "version_minor": 0
      },
      "text/plain": [
       "val_steps:   0%|          | 0/75 [00:00<?, ?it/s]"
      ]
     },
     "metadata": {},
     "output_type": "display_data"
    },
    {
     "name": "stdout",
     "output_type": "stream",
     "text": [
      "Train loss: 0.598 | Train accuracy: 76%\n",
      "Val   loss: 0.8758 | Val   accuracy: 62%\n"
     ]
    }
   ],
   "source": [
    "model_results = train(model=model, \n",
    "                        train_dataloader=train_dataloader,\n",
    "                        val_dataloader=val_dataloader,\n",
    "                        optimizer=optimizer,\n",
    "                        scheduler=scheduler,\n",
    "                        epochs=EPOCHS)"
   ]
  },
  {
   "cell_type": "code",
   "execution_count": 32,
   "id": "99b1fa55",
   "metadata": {
    "ExecuteTime": {
     "end_time": "2024-05-01T11:44:21.575163Z",
     "start_time": "2024-05-01T11:44:21.571648Z"
    }
   },
   "outputs": [],
   "source": [
    "model_results['train_loss'] = torch.tensor(model_results['train_loss'], device='cpu')\n",
    "model_results['val_loss'] = torch.tensor(model_results['val_loss'], device='cpu')"
   ]
  },
  {
   "cell_type": "code",
   "execution_count": 33,
   "id": "e1f8f933",
   "metadata": {
    "ExecuteTime": {
     "end_time": "2024-05-01T11:44:27.411132Z",
     "start_time": "2024-05-01T11:44:27.142270Z"
    }
   },
   "outputs": [
    {
     "data": {
      "image/png": "[encoded data removed]",
      "text/plain": [
       "<Figure size 640x480 with 2 Axes>"
      ]
     },
     "metadata": {},
     "output_type": "display_data"
    }
   ],
   "source": [
    "# Plot loss\n",
    "plt.subplot(1, 2, 1)\n",
    "plt.plot(model_results['train_loss'].clone().detach(), label='train loss')\n",
    "plt.plot(model_results['val_loss'].clone().detach(), label='validation loss')\n",
    "plt.title('Loss')\n",
    "plt.xlabel('Epochs')\n",
    "plt.legend()\n",
    "\n",
    "# Plot accuracy\n",
    "plt.subplot(1, 2, 2)\n",
    "plt.plot(model_results['train_acc'], label='train accuracy')\n",
    "plt.plot(model_results['val_acc'], label='validation accuracy')\n",
    "plt.title('Accuracy')\n",
    "plt.xlabel('Epochs')\n",
    "plt.legend();"
   ]
  },
  {
   "cell_type": "code",
   "execution_count": 11,
   "id": "fe44401a",
   "metadata": {
    "ExecuteTime": {
     "end_time": "2024-05-12T04:33:01.339075Z",
     "start_time": "2024-05-12T04:32:58.213475Z"
    }
   },
   "outputs": [
    {
     "name": "stdout",
     "output_type": "stream",
     "text": [
      "add a post or add a story is not working in my phone. it always ends up as app stop responding. it's frustrating.\n",
      "\n",
      "Label : negative\n",
      "------------------------------\n",
      "i don't like how the feed automatically scrolls to the next post when i'm trying to read a caption. the only way around it is to go to the posters profile, search for that video, and read it from there. pita. also don't care for all the suggested content. i never see any content from the accounts i actually follow. it's just continuous suggested content and ads, one after the other. maybe 10 posts down & finally i come across one from someone i follow. annoying.\n",
      "\n",
      "Label : negative\n",
      "------------------------------\n",
      "late message problem\n",
      "\n",
      "Label : negative\n",
      "------------------------------\n",
      "3stars sorry\n",
      "\n",
      "Label : neutral\n",
      "------------------------------\n",
      "i used to like and use the lite app until they started suggesting marketplace items to me on the menu page. i don't want to see items after i leave the marketplace which is why i turned off notifications for marketplace items. putting them in the menu defeats my turning off notifications. so i uninstalled and use the web interface intermittently.\n",
      "\n",
      "Label : neutral\n",
      "------------------------------\n",
      "awful design choice in moving the navigation bar to the bottom of the screen : - latest chats are at the top so focusing the menu there makes more sense - size of the bar is quadrupled, now obscuring functional screen space - it doesn't integrate with existing design and feels'stuck on top'it seems like a trick to force users to accidentally click useless features like communities ( not in any way fleshed out enough to be useful ) and updates ( just instagram light? ). hoping for a fix soon\n",
      "\n",
      "Label : negative\n",
      "------------------------------\n",
      "pretty good but no one is messaging me\n",
      "\n",
      "Label : positive\n",
      "------------------------------\n",
      "this is pretty good no ads and u can say ahem but it pretty for 18 +\n",
      "\n",
      "Label : neutral\n",
      "------------------------------\n"
     ]
    }
   ],
   "source": [
    "test_metric = evaluate.load(\"accuracy\")\n",
    "model.eval()\n",
    "for i,batch in enumerate(test_dataloader):\n",
    "    batch = {k: v.to(device) for k, v in batch.items()}\n",
    "    with torch.inference_mode():\n",
    "        outputs = model(**batch)\n",
    "    \n",
    "    #print(batch)\n",
    "    print(tokenizer.decode(batch['input_ids'][0], skip_special_tokens=True))\n",
    "    print()\n",
    "    logits = outputs.logits\n",
    "    predictions = torch.softmax(logits,dim=1)\n",
    "    predictions = torch.argmax(predictions, dim=-1)\n",
    "    test_metric.add_batch(predictions=predictions, references=batch[\"labels\"])\n",
    "    print(f\"Label : {class_names[predictions.max()]}\")\n",
    "    print(\"--\"*15)\n",
    "    if i == 7:\n",
    "        break"
   ]
  },
  {
   "cell_type": "code",
   "execution_count": 37,
   "id": "2efe0242",
   "metadata": {
    "ExecuteTime": {
     "end_time": "2024-05-01T11:46:28.932099Z",
     "start_time": "2024-05-01T11:46:28.925899Z"
    }
   },
   "outputs": [],
   "source": [
    "def get_predictions(model, data_loader):\n",
    "    \n",
    "    review_texts = []\n",
    "    predictions = []\n",
    "    prediction_probs = []\n",
    "    real_values = []\n",
    "    model.eval()\n",
    "    for i,batch in enumerate(test_dataloader):\n",
    "        batch = {k: v.to(device) for k, v in batch.items()}\n",
    "        with torch.inference_mode():\n",
    "                outputs = model(**batch)\n",
    "                texts = tokenizer.decode(batch['input_ids'][0], skip_special_tokens=True)\n",
    "                targets = batch[\"labels\"].to(device)\n",
    "                logits = outputs.logits\n",
    "                preds = torch.softmax(logits,dim=1)\n",
    "                preds = torch.argmax(preds, dim=-1)\n",
    "                review_texts.append(texts)\n",
    "                predictions.append(preds.cpu().item())\n",
    "                real_values.append(targets.cpu().item())\n",
    "    \n",
    "    return review_texts, predictions, real_values"
   ]
  },
  {
   "cell_type": "code",
   "execution_count": 38,
   "id": "687070ba",
   "metadata": {
    "ExecuteTime": {
     "end_time": "2024-05-01T11:46:35.050756Z",
     "start_time": "2024-05-01T11:46:29.723715Z"
    }
   },
   "outputs": [],
   "source": [
    "y_review_texts, y_pred, y_test = get_predictions(\n",
    "  model,\n",
    "  test_dataloader\n",
    ")"
   ]
  },
  {
   "cell_type": "code",
   "execution_count": 39,
   "id": "c7fdb3e9",
   "metadata": {
    "ExecuteTime": {
     "end_time": "2024-05-01T11:46:36.152427Z",
     "start_time": "2024-05-01T11:46:36.059046Z"
    }
   },
   "outputs": [
    {
     "name": "stdout",
     "output_type": "stream",
     "text": [
      "              precision    recall  f1-score   support\n",
      "\n",
      "    negative       0.58      0.56      0.57       190\n",
      "     neutral       0.46      0.41      0.43       199\n",
      "    positive       0.62      0.71      0.66       211\n",
      "\n",
      "    accuracy                           0.56       600\n",
      "   macro avg       0.55      0.56      0.55       600\n",
      "weighted avg       0.56      0.56      0.56       600\n",
      "\n"
     ]
    }
   ],
   "source": [
    "print(classification_report(y_test, y_pred, target_names=class_names))"
   ]
  },
  {
   "cell_type": "code",
   "execution_count": 40,
   "id": "6609172d",
   "metadata": {
    "ExecuteTime": {
     "end_time": "2024-05-01T11:46:38.252755Z",
     "start_time": "2024-05-01T11:46:38.095983Z"
    }
   },
   "outputs": [
    {
     "data": {
      "image/png": "[encoded data removed]",
      "text/plain": [
       "<Figure size 640x480 with 2 Axes>"
      ]
     },
     "metadata": {},
     "output_type": "display_data"
    }
   ],
   "source": [
    "def show_confusion_matrix(confusion_matrix):\n",
    "    hmap = sns.heatmap(confusion_matrix, annot=True, fmt=\"d\", cmap=\"Blues\")\n",
    "    hmap.yaxis.set_ticklabels(hmap.yaxis.get_ticklabels(), rotation=0, ha='right')\n",
    "    hmap.xaxis.set_ticklabels(hmap.xaxis.get_ticklabels(), rotation=30, ha='right')\n",
    "    plt.ylabel('True sentiment')\n",
    "    plt.xlabel('Predicted sentiment');\n",
    "cm = confusion_matrix(y_test, y_pred)\n",
    "df_cm = pd.DataFrame(cm, index=class_names, columns=class_names)\n",
    "show_confusion_matrix(df_cm)"
   ]
  },
  {
   "cell_type": "markdown",
   "id": "925d393f",
   "metadata": {},
   "source": [
    "### Predict on raw text"
   ]
  },
  {
   "cell_type": "code",
   "execution_count": 60,
   "id": "85f1c80c",
   "metadata": {
    "ExecuteTime": {
     "end_time": "2024-05-01T15:21:57.208097Z",
     "start_time": "2024-05-01T15:21:57.203193Z"
    }
   },
   "outputs": [],
   "source": [
    "def predict(model, text, tokenizer, device):\n",
    "    encoded_text = tokenizer(text, truncation=True, padding=\"max_length\",\n",
    "                             max_length=MAX_LEN, return_tensors='pt')\n",
    "\n",
    "    input_ids = encoded_text['input_ids'].to(device)\n",
    "    attention_mask = encoded_text['attention_mask'].to(device)\n",
    "\n",
    "    outputs = model(input_ids, attention_mask)\n",
    "    logits = outputs.logits\n",
    "    preds_prob = torch.softmax(logits,dim=1)\n",
    "    preds = torch.argmax(preds_prob, dim=-1)\n",
    "\n",
    "    print(f'Review text: {raw_text}')\n",
    "    print(f'Sentiment  : {class_names[preds]}')\n",
    "    print(f'Score  : {preds_prob.max():.4f}')"
   ]
  },
  {
   "cell_type": "code",
   "execution_count": 66,
   "id": "e4f762e1",
   "metadata": {
    "ExecuteTime": {
     "end_time": "2024-05-01T15:23:27.677923Z",
     "start_time": "2024-05-01T15:23:27.662094Z"
    }
   },
   "outputs": [
    {
     "name": "stdout",
     "output_type": "stream",
     "text": [
      "Review text: Wow! I love this app\n",
      "Sentiment  : positive\n",
      "Score  : 0.8840\n"
     ]
    }
   ],
   "source": [
    "raw_text = 'Wow! I love this app'\n",
    "predict(model, raw_text, tokenizer, device)"
   ]
  },
  {
   "cell_type": "markdown",
   "id": "62ccf5f5",
   "metadata": {},
   "source": [
    "### Saving Model"
   ]
  },
  {
   "cell_type": "code",
   "execution_count": 67,
   "id": "55f24da1",
   "metadata": {
    "ExecuteTime": {
     "end_time": "2024-05-01T15:29:35.002062Z",
     "start_time": "2024-05-01T15:29:33.883155Z"
    }
   },
   "outputs": [],
   "source": [
    "saved_model = torch.save(model.state_dict(), 'model_0.bin')\n",
    "saved_model"
   ]
  },
  {
   "cell_type": "code",
   "execution_count": null,
   "id": "e7184bed",
   "metadata": {},
   "outputs": [],
   "source": []
  }
 ],
 "metadata": {
  "kernelspec": {
   "display_name": "Python 3 (ipykernel)",
   "language": "python",
   "name": "python3"
  },
  "language_info": {
   "codemirror_mode": {
    "name": "ipython",
    "version": 3
   },
   "file_extension": ".py",
   "mimetype": "text/x-python",
   "name": "python",
   "nbconvert_exporter": "python",
   "pygments_lexer": "ipython3",
   "version": "3.11.8"
  },
  "varInspector": {
   "cols": {
    "lenName": 16,
    "lenType": 16,
    "lenVar": 40
   },
   "kernels_config": {
    "python": {
     "delete_cmd_postfix": "",
     "delete_cmd_prefix": "del ",
     "library": "var_list.py",
     "varRefreshCmd": "print(var_dic_list())"
    },
    "r": {
     "delete_cmd_postfix": ") ",
     "delete_cmd_prefix": "rm(",
     "library": "var_list.r",
     "varRefreshCmd": "cat(var_dic_list()) "
    }
   },
   "types_to_exclude": [
    "module",
    "function",
    "builtin_function_or_method",
    "instance",
    "_Feature"
   ],
   "window_display": false
  }
 },
 "nbformat": 4,
 "nbformat_minor": 5
}
