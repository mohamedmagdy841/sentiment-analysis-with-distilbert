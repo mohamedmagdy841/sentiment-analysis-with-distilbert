{
 "cells": [
  {
   "cell_type": "code",
   "execution_count": 2,
   "id": "d3cca929",
   "metadata": {
    "ExecuteTime": {
     "end_time": "2024-04-30T22:34:30.187060Z",
     "start_time": "2024-04-30T22:34:28.541260Z"
    }
   },
   "outputs": [],
   "source": [
    "import json\n",
    "import pandas as pd\n",
    "from tqdm import tqdm\n",
    "import seaborn as sns\n",
    "import matplotlib.pyplot as plt\n",
    "from PIL import Image\n",
    "import urllib\n",
    "\n",
    "from pygments import highlight\n",
    "from pygments.lexers import JsonLexer\n",
    "from pygments.formatters import TerminalFormatter\n",
    "\n",
    "from google_play_scraper import Sort, reviews, app\n",
    "\n",
    "#will make your plot outputs appear and be stored within the notebook.\n",
    "%matplotlib inline \n",
    "\n",
    "sns.set(style='whitegrid', palette='muted', font_scale=1.2)"
   ]
  },
  {
   "cell_type": "markdown",
   "id": "53dcca59",
   "metadata": {},
   "source": [
    "# Create Custom Dataset "
   ]
  },
  {
   "cell_type": "code",
   "execution_count": 26,
   "id": "c555d39a",
   "metadata": {
    "ExecuteTime": {
     "end_time": "2024-04-25T22:30:48.589773Z",
     "start_time": "2024-04-25T22:30:48.585960Z"
    }
   },
   "outputs": [
    {
     "name": "stdout",
     "output_type": "stream",
     "text": [
      "Number of apps = 10\n"
     ]
    }
   ],
   "source": [
    "# create packages of apps \n",
    "app_packages = [\n",
    "    'com.zhiliaoapp.musically',\n",
    "    'com.instagram.android',\n",
    "    'com.facebook.orca',\n",
    "    'com.whatsapp',\n",
    "    'org.telegram.messenger',\n",
    "    'com.facebook.katana',\n",
    "    'com.facebook.lite',\n",
    "    'com.snapchat.android',\n",
    "    'com.aigc.ushow.ichat',\n",
    "    'com.reddit.frontpage'\n",
    "]\n",
    "print(f\"Number of apps = {len(app_packages)}\")"
   ]
  },
  {
   "cell_type": "code",
   "execution_count": 27,
   "id": "d6b3aa87",
   "metadata": {
    "ExecuteTime": {
     "end_time": "2024-04-25T22:30:57.313649Z",
     "start_time": "2024-04-25T22:30:49.072737Z"
    }
   },
   "outputs": [
    {
     "name": "stderr",
     "output_type": "stream",
     "text": [
      "100%|██████████████████████████████████████████████████████████████████████████████████| 10/10 [00:08<00:00,  1.21it/s]\n"
     ]
    }
   ],
   "source": [
    "# iterate over each package\n",
    "app_infos = []\n",
    "\n",
    "for ap in tqdm(app_packages):\n",
    "    info = app(ap, lang='en', country='us')\n",
    "    del info['comments']\n",
    "    app_infos.append(info)"
   ]
  },
  {
   "cell_type": "code",
   "execution_count": 28,
   "id": "a5da7ef9",
   "metadata": {
    "ExecuteTime": {
     "end_time": "2024-04-25T22:31:40.643606Z",
     "start_time": "2024-04-25T22:31:40.639220Z"
    }
   },
   "outputs": [],
   "source": [
    "def print_json(json_obj):\n",
    "    '''\n",
    "        function will convert a subset of Python objects into a json string.\n",
    "        Not all objects are convertible \n",
    "        and you may need to create a dictionary of data\n",
    "        you wish to expose before serializing to JSON.\n",
    "    '''\n",
    "    json_str = json.dumps(\n",
    "        json_obj,\n",
    "        indent=2,\n",
    "        sort_keys=True, #the output of dictionaries will be sorted by key\n",
    "        default=str  # return all in string\n",
    "    )\n",
    "    \n",
    "    print(highlight(json_str, JsonLexer(), TerminalFormatter())) # highlight the text"
   ]
  },
  {
   "cell_type": "code",
   "execution_count": 29,
   "id": "40140e99",
   "metadata": {
    "ExecuteTime": {
     "end_time": "2024-04-25T22:31:42.026863Z",
     "start_time": "2024-04-25T22:31:42.021750Z"
    }
   },
   "outputs": [
    {
     "name": "stdout",
     "output_type": "stream",
     "text": [
      "{\u001b[37m\u001b[39;49;00m\n",
      "\u001b[37m  \u001b[39;49;00m\u001b[94m\"adSupported\"\u001b[39;49;00m:\u001b[37m \u001b[39;49;00m\u001b[34mtrue\u001b[39;49;00m,\u001b[37m\u001b[39;49;00m\n",
      "\u001b[37m  \u001b[39;49;00m\u001b[94m\"appId\"\u001b[39;49;00m:\u001b[37m \u001b[39;49;00m\u001b[33m\"com.zhiliaoapp.musically\"\u001b[39;49;00m,\u001b[37m\u001b[39;49;00m\n",
      "\u001b[37m  \u001b[39;49;00m\u001b[94m\"categories\"\u001b[39;49;00m:\u001b[37m \u001b[39;49;00m[\u001b[37m\u001b[39;49;00m\n",
      "\u001b[37m    \u001b[39;49;00m{\u001b[37m\u001b[39;49;00m\n",
      "\u001b[37m      \u001b[39;49;00m\u001b[94m\"id\"\u001b[39;49;00m:\u001b[37m \u001b[39;49;00m\u001b[33m\"SOCIAL\"\u001b[39;49;00m,\u001b[37m\u001b[39;49;00m\n",
      "\u001b[37m      \u001b[39;49;00m\u001b[94m\"name\"\u001b[39;49;00m:\u001b[37m \u001b[39;49;00m\u001b[33m\"Social\"\u001b[39;49;00m\u001b[37m\u001b[39;49;00m\n",
      "\u001b[37m    \u001b[39;49;00m}\u001b[37m\u001b[39;49;00m\n",
      "\u001b[37m  \u001b[39;49;00m],\u001b[37m\u001b[39;49;00m\n",
      "\u001b[37m  \u001b[39;49;00m\u001b[94m\"containsAds\"\u001b[39;49;00m:\u001b[37m \u001b[39;49;00m\u001b[34mtrue\u001b[39;49;00m,\u001b[37m\u001b[39;49;00m\n",
      "\u001b[37m  \u001b[39;49;00m\u001b[94m\"contentRating\"\u001b[39;49;00m:\u001b[37m \u001b[39;49;00m\u001b[33m\"Teen\"\u001b[39;49;00m,\u001b[37m\u001b[39;49;00m\n",
      "\u001b[37m  \u001b[39;49;00m\u001b[94m\"contentRatingDescription\"\u001b[39;49;00m:\u001b[37m \u001b[39;49;00m\u001b[34mnull\u001b[39;49;00m,\u001b[37m\u001b[39;49;00m\n",
      "\u001b[37m  \u001b[39;49;00m\u001b[94m\"currency\"\u001b[39;49;00m:\u001b[37m \u001b[39;49;00m\u001b[33m\"USD\"\u001b[39;49;00m,\u001b[37m\u001b[39;49;00m\n",
      "\u001b[37m  \u001b[39;49;00m\u001b[94m\"description\"\u001b[39;49;00m:\u001b[37m \u001b[39;49;00m\u001b[33m\"TikTok is THE destination for mobile videos. On TikTok, short-form videos are exciting, spontaneous, and genuine. Whether you\\u2019re a sports fanatic, a pet enthusiast, or just looking for a laugh, there\\u2019s something for everyone on TikTok. All you have to do is watch, engage with what you like, skip what you don\\u2019t, and you\\u2019ll find an endless stream of short videos that feel personalized just for you. From your morning coffee to your afternoon errands, TikTok has the videos that are guaranteed to make your day.\\r\\n\\r\\nWe make it easy for you to discover and create your own original videos by providing easy-to-use tools to view and capture your daily moments. Take your videos to the next level with special effects, filters, music, and more. \\r\\n\\r\\n\\u25a0 Watch endless amount of videos customized specifically for you\\r\\nA personalized video feed based on what you watch, like, and share. TikTok offers you real, interesting, and fun videos that will make your day.\\r\\n \\r\\n\\u25a0 Explore videos, just one scroll away\\r\\nWatch all types of videos, from Comedy, Gaming, DIY, Food, Sports, Memes, and Pets, to Oddly Satisfying, ASMR, and everything in between.\\r\\n \\r\\n\\u25a0 Pause recording multiple times in one video\\r\\nPause and resume your video with just a tap. Shoot as many times as you need.\\r\\n \\r\\n\\u25a0 Be entertained and inspired by a global community of creators\\r\\nMillions of creators are on TikTok showcasing their incredible skills and everyday life. Let yourself be inspired.\\r\\n\\r\\n\\u25a0 Add your favorite music or sound to your videos for free\\r\\nEasily edit your videos with millions of free music clips and sounds. We curate music and sound playlists for you with the hottest tracks in every genre, including Hip Hop, Edm, Pop, Rock, Rap, and Country, and the most viral original sounds.\\r\\n\\r\\n\\u25a0 Express yourself with creative effects\\r\\nUnlock tons of filters, effects, and AR objects to take your videos to the next level.\\r\\n\\r\\n\\u25a0 Edit your own videos \\r\\nOur integrated editing tools allow you to easily trim, cut, merge and duplicate video clips without leaving the app.\\r\\n\\r\\n* Any feedback? Contact us at https://www.tiktok.com/legal/report/feedback or tweet us @tiktok_us\\r\\n\\r\\n\\u25a0 Terms of Service\\r\\nhttps://www.tiktok.com/legal/terms-of-service\\r\\n\\r\\n\\u25a0 Privacy Policy\\r\\nhttps://www.tiktok.com/legal/privacy-policy\"\u001b[39;49;00m,\u001b[37m\u001b[39;49;00m\n",
      "\u001b[37m  \u001b[39;49;00m\u001b[94m\"descriptionHTML\"\u001b[39;49;00m:\u001b[37m \u001b[39;49;00m\u001b[33m\"TikTok is THE destination for mobile videos. On TikTok, short-form videos are exciting, spontaneous, and genuine. Whether you\\u2019re a sports fanatic, a pet enthusiast, or just looking for a laugh, there\\u2019s something for everyone on TikTok. All you have to do is watch, engage with what you like, skip what you don\\u2019t, and you\\u2019ll find an endless stream of short videos that feel personalized just for you. From your morning coffee to your afternoon errands, TikTok has the videos that are guaranteed to make your day.<br><br>We make it easy for you to discover and create your own original videos by providing easy-to-use tools to view and capture your daily moments. Take your videos to the next level with special effects, filters, music, and more. <br><br>\\u25a0 Watch endless amount of videos customized specifically for you<br>A personalized video feed based on what you watch, like, and share. TikTok offers you real, interesting, and fun videos that will make your day.<br> <br>\\u25a0 Explore videos, just one scroll away<br>Watch all types of videos, from Comedy, Gaming, DIY, Food, Sports, Memes, and Pets, to Oddly Satisfying, ASMR, and everything in between.<br> <br>\\u25a0 Pause recording multiple times in one video<br>Pause and resume your video with just a tap. Shoot as many times as you need.<br> <br>\\u25a0 Be entertained and inspired by a global community of creators<br>Millions of creators are on TikTok showcasing their incredible skills and everyday life. Let yourself be inspired.<br><br>\\u25a0 Add your favorite music or sound to your videos for free<br>Easily edit your videos with millions of free music clips and sounds. We curate music and sound playlists for you with the hottest tracks in every genre, including Hip Hop, Edm, Pop, Rock, Rap, and Country, and the most viral original sounds.<br><br>\\u25a0 Express yourself with creative effects<br>Unlock tons of filters, effects, and AR objects to take your videos to the next level.<br><br>\\u25a0 Edit your own videos <br>Our integrated editing tools allow you to easily trim, cut, merge and duplicate video clips without leaving the app.<br><br>* Any feedback? Contact us at https://www.tiktok.com/legal/report/feedback or tweet us @tiktok_us<br><br>\\u25a0 Terms of Service<br>https://www.tiktok.com/legal/terms-of-service<br><br>\\u25a0 Privacy Policy<br>https://www.tiktok.com/legal/privacy-policy\"\u001b[39;49;00m,\u001b[37m\u001b[39;49;00m\n",
      "\u001b[37m  \u001b[39;49;00m\u001b[94m\"developer\"\u001b[39;49;00m:\u001b[37m \u001b[39;49;00m\u001b[33m\"TikTok Pte. Ltd.\"\u001b[39;49;00m,\u001b[37m\u001b[39;49;00m\n",
      "\u001b[37m  \u001b[39;49;00m\u001b[94m\"developerAddress\"\u001b[39;49;00m:\u001b[37m \u001b[39;49;00m\u001b[33m\"1 Raffles Quay, #26-10,\\nSouth Tower,\\nSingapore\\n048583\"\u001b[39;49;00m,\u001b[37m\u001b[39;49;00m\n",
      "\u001b[37m  \u001b[39;49;00m\u001b[94m\"developerEmail\"\u001b[39;49;00m:\u001b[37m \u001b[39;49;00m\u001b[33m\"feedback@tiktok.com\"\u001b[39;49;00m,\u001b[37m\u001b[39;49;00m\n",
      "\u001b[37m  \u001b[39;49;00m\u001b[94m\"developerId\"\u001b[39;49;00m:\u001b[37m \u001b[39;49;00m\u001b[33m\"TikTok+Pte.+Ltd.\"\u001b[39;49;00m,\u001b[37m\u001b[39;49;00m\n",
      "\u001b[37m  \u001b[39;49;00m\u001b[94m\"developerWebsite\"\u001b[39;49;00m:\u001b[37m \u001b[39;49;00m\u001b[33m\"https://www.tiktok.com/\"\u001b[39;49;00m,\u001b[37m\u001b[39;49;00m\n",
      "\u001b[37m  \u001b[39;49;00m\u001b[94m\"free\"\u001b[39;49;00m:\u001b[37m \u001b[39;49;00m\u001b[34mtrue\u001b[39;49;00m,\u001b[37m\u001b[39;49;00m\n",
      "\u001b[37m  \u001b[39;49;00m\u001b[94m\"genre\"\u001b[39;49;00m:\u001b[37m \u001b[39;49;00m\u001b[33m\"Social\"\u001b[39;49;00m,\u001b[37m\u001b[39;49;00m\n",
      "\u001b[37m  \u001b[39;49;00m\u001b[94m\"genreId\"\u001b[39;49;00m:\u001b[37m \u001b[39;49;00m\u001b[33m\"SOCIAL\"\u001b[39;49;00m,\u001b[37m\u001b[39;49;00m\n",
      "\u001b[37m  \u001b[39;49;00m\u001b[94m\"headerImage\"\u001b[39;49;00m:\u001b[37m \u001b[39;49;00m\u001b[33m\"https://play-lh.googleusercontent.com/cGg6XqpqP7WgRh-QnOdBl92ybv-WPtPuCp3Op04TvtvcoGyKDOK8FMI5brKl87MP3SMS\"\u001b[39;49;00m,\u001b[37m\u001b[39;49;00m\n",
      "\u001b[37m  \u001b[39;49;00m\u001b[94m\"histogram\"\u001b[39;49;00m:\u001b[37m \u001b[39;49;00m[\u001b[37m\u001b[39;49;00m\n",
      "\u001b[37m    \u001b[39;49;00m\u001b[34m7313711\u001b[39;49;00m,\u001b[37m\u001b[39;49;00m\n",
      "\u001b[37m    \u001b[39;49;00m\u001b[34m1893789\u001b[39;49;00m,\u001b[37m\u001b[39;49;00m\n",
      "\u001b[37m    \u001b[39;49;00m\u001b[34m3099160\u001b[39;49;00m,\u001b[37m\u001b[39;49;00m\n",
      "\u001b[37m    \u001b[39;49;00m\u001b[34m6469503\u001b[39;49;00m,\u001b[37m\u001b[39;49;00m\n",
      "\u001b[37m    \u001b[39;49;00m\u001b[34m43740732\u001b[39;49;00m\u001b[37m\u001b[39;49;00m\n",
      "\u001b[37m  \u001b[39;49;00m],\u001b[37m\u001b[39;49;00m\n",
      "\u001b[37m  \u001b[39;49;00m\u001b[94m\"icon\"\u001b[39;49;00m:\u001b[37m \u001b[39;49;00m\u001b[33m\"https://play-lh.googleusercontent.com/BmUViDVOKNJe0GYJe22hsr7juFndRVbvr1fGmHGXqHfJjNAXjd26bfuGRQpVrpJ6YbA\"\u001b[39;49;00m,\u001b[37m\u001b[39;49;00m\n",
      "\u001b[37m  \u001b[39;49;00m\u001b[94m\"inAppProductPrice\"\u001b[39;49;00m:\u001b[37m \u001b[39;49;00m\u001b[33m\"$0.05 - $1,200.00 per item\"\u001b[39;49;00m,\u001b[37m\u001b[39;49;00m\n",
      "\u001b[37m  \u001b[39;49;00m\u001b[94m\"installs\"\u001b[39;49;00m:\u001b[37m \u001b[39;49;00m\u001b[33m\"1,000,000,000+\"\u001b[39;49;00m,\u001b[37m\u001b[39;49;00m\n",
      "\u001b[37m  \u001b[39;49;00m\u001b[94m\"lastUpdatedOn\"\u001b[39;49;00m:\u001b[37m \u001b[39;49;00m\u001b[33m\"Apr 25, 2024\"\u001b[39;49;00m,\u001b[37m\u001b[39;49;00m\n",
      "\u001b[37m  \u001b[39;49;00m\u001b[94m\"minInstalls\"\u001b[39;49;00m:\u001b[37m \u001b[39;49;00m\u001b[34m1000000000\u001b[39;49;00m,\u001b[37m\u001b[39;49;00m\n",
      "\u001b[37m  \u001b[39;49;00m\u001b[94m\"offersIAP\"\u001b[39;49;00m:\u001b[37m \u001b[39;49;00m\u001b[34mtrue\u001b[39;49;00m,\u001b[37m\u001b[39;49;00m\n",
      "\u001b[37m  \u001b[39;49;00m\u001b[94m\"originalPrice\"\u001b[39;49;00m:\u001b[37m \u001b[39;49;00m\u001b[34mnull\u001b[39;49;00m,\u001b[37m\u001b[39;49;00m\n",
      "\u001b[37m  \u001b[39;49;00m\u001b[94m\"price\"\u001b[39;49;00m:\u001b[37m \u001b[39;49;00m\u001b[34m0\u001b[39;49;00m,\u001b[37m\u001b[39;49;00m\n",
      "\u001b[37m  \u001b[39;49;00m\u001b[94m\"privacyPolicy\"\u001b[39;49;00m:\u001b[37m \u001b[39;49;00m\u001b[33m\"https://www.tiktok.com/legal/privacy-policy\"\u001b[39;49;00m,\u001b[37m\u001b[39;49;00m\n",
      "\u001b[37m  \u001b[39;49;00m\u001b[94m\"ratings\"\u001b[39;49;00m:\u001b[37m \u001b[39;49;00m\u001b[34m62516921\u001b[39;49;00m,\u001b[37m\u001b[39;49;00m\n",
      "\u001b[37m  \u001b[39;49;00m\u001b[94m\"realInstalls\"\u001b[39;49;00m:\u001b[37m \u001b[39;49;00m\u001b[34m3079207043\u001b[39;49;00m,\u001b[37m\u001b[39;49;00m\n",
      "\u001b[37m  \u001b[39;49;00m\u001b[94m\"released\"\u001b[39;49;00m:\u001b[37m \u001b[39;49;00m\u001b[33m\"Jul 9, 2015\"\u001b[39;49;00m,\u001b[37m\u001b[39;49;00m\n",
      "\u001b[37m  \u001b[39;49;00m\u001b[94m\"reviews\"\u001b[39;49;00m:\u001b[37m \u001b[39;49;00m\u001b[34m2185222\u001b[39;49;00m,\u001b[37m\u001b[39;49;00m\n",
      "\u001b[37m  \u001b[39;49;00m\u001b[94m\"sale\"\u001b[39;49;00m:\u001b[37m \u001b[39;49;00m\u001b[34mfalse\u001b[39;49;00m,\u001b[37m\u001b[39;49;00m\n",
      "\u001b[37m  \u001b[39;49;00m\u001b[94m\"saleText\"\u001b[39;49;00m:\u001b[37m \u001b[39;49;00m\u001b[34mnull\u001b[39;49;00m,\u001b[37m\u001b[39;49;00m\n",
      "\u001b[37m  \u001b[39;49;00m\u001b[94m\"saleTime\"\u001b[39;49;00m:\u001b[37m \u001b[39;49;00m\u001b[34mnull\u001b[39;49;00m,\u001b[37m\u001b[39;49;00m\n",
      "\u001b[37m  \u001b[39;49;00m\u001b[94m\"score\"\u001b[39;49;00m:\u001b[37m \u001b[39;49;00m\u001b[34m4.2385406\u001b[39;49;00m,\u001b[37m\u001b[39;49;00m\n",
      "\u001b[37m  \u001b[39;49;00m\u001b[94m\"screenshots\"\u001b[39;49;00m:\u001b[37m \u001b[39;49;00m[\u001b[37m\u001b[39;49;00m\n",
      "\u001b[37m    \u001b[39;49;00m\u001b[33m\"https://play-lh.googleusercontent.com/BVtI-VxNe3il_Yd-4IHr9H7Vre42ca3x3r-7Ta8rGSnvVWl7zqAMau5oJrzkvBskqWmN\"\u001b[39;49;00m,\u001b[37m\u001b[39;49;00m\n",
      "\u001b[37m    \u001b[39;49;00m\u001b[33m\"https://play-lh.googleusercontent.com/MLJEufslggDhkPlHpu83rCf9Urx7jczOyhmkdYL3SfViBPvS3fKD6Qo7sfpmBlS5vw\"\u001b[39;49;00m,\u001b[37m\u001b[39;49;00m\n",
      "\u001b[37m    \u001b[39;49;00m\u001b[33m\"https://play-lh.googleusercontent.com/RsF3ddXDcjKH8-RyyaFzyXQB5yv0E9l9EGtPnUSpUE-KUDxJlJM8glLwDrg3YicN2l4K\"\u001b[39;49;00m,\u001b[37m\u001b[39;49;00m\n",
      "\u001b[37m    \u001b[39;49;00m\u001b[33m\"https://play-lh.googleusercontent.com/UkanQuEHXVQOBYCu9LEOXjtkpBSQoJvZql_EerhTB_P2E-PBCA1Hc-547tLLbv2DVA\"\u001b[39;49;00m,\u001b[37m\u001b[39;49;00m\n",
      "\u001b[37m    \u001b[39;49;00m\u001b[33m\"https://play-lh.googleusercontent.com/VqBYkhAJiY3BjH4Gv-pgIHbPnIuXTEhKfkka5UMrcjA3ddukwpbUKYzqEqA95dDBK9o\"\u001b[39;49;00m,\u001b[37m\u001b[39;49;00m\n",
      "\u001b[37m    \u001b[39;49;00m\u001b[33m\"https://play-lh.googleusercontent.com/1AmZSlCNziTKUgItHPfbzN9AZ1wKJRMSIzPFsGgGZKsUHAMep96bPccR5TWZCNSaSQs\"\u001b[39;49;00m,\u001b[37m\u001b[39;49;00m\n",
      "\u001b[37m    \u001b[39;49;00m\u001b[33m\"https://play-lh.googleusercontent.com/k4GWhaulvZivMDNiXOcfNKM4SxddxS4OC3XaJNyBIaQVjmavvETtutK5GI-6bWM_7Gvn\"\u001b[39;49;00m,\u001b[37m\u001b[39;49;00m\n",
      "\u001b[37m    \u001b[39;49;00m\u001b[33m\"https://play-lh.googleusercontent.com/XZVJSLq0tIDL3Xudoqa2wb3puxrWlKO2tIMAGcJbW023Nf-lQ_CJ6ndMYZWhRgXEag\"\u001b[39;49;00m,\u001b[37m\u001b[39;49;00m\n",
      "\u001b[37m    \u001b[39;49;00m\u001b[33m\"https://play-lh.googleusercontent.com/lZPjVWQw2dSXvnUj1c0K_DSiIBk2dKug3LHPnUtgyGH0TWDpMBlMi2uG87hp3-ATrOY\"\u001b[39;49;00m,\u001b[37m\u001b[39;49;00m\n",
      "\u001b[37m    \u001b[39;49;00m\u001b[33m\"https://play-lh.googleusercontent.com/3Ntzw3fzRVm508FTLbXoAA0NbCcviqzw3VQupaCTG1RhDeZGsShAgN9TUGEicbpGelQ\"\u001b[39;49;00m,\u001b[37m\u001b[39;49;00m\n",
      "\u001b[37m    \u001b[39;49;00m\u001b[33m\"https://play-lh.googleusercontent.com/E_a4piJq9DlmudaAfjxd72WtPQnHSboDzXcVpggfIQHZM6NwaBdD2AgAiZpAPff8VBw\"\u001b[39;49;00m,\u001b[37m\u001b[39;49;00m\n",
      "\u001b[37m    \u001b[39;49;00m\u001b[33m\"https://play-lh.googleusercontent.com/f1Q_dfmyH_wmdjURDhfoM_FQfNRjCngh9prKvIFH3xKsoN0AkQnpCCaddlhc3yRT-P8\"\u001b[39;49;00m,\u001b[37m\u001b[39;49;00m\n",
      "\u001b[37m    \u001b[39;49;00m\u001b[33m\"https://play-lh.googleusercontent.com/9m19HftVHEzhInp0s-RSi3LPA5co8dB2V4dQqdkFfsz6rRyccH3LQjeJc9Y4mm8pdqJg\"\u001b[39;49;00m\u001b[37m\u001b[39;49;00m\n",
      "\u001b[37m  \u001b[39;49;00m],\u001b[37m\u001b[39;49;00m\n",
      "\u001b[37m  \u001b[39;49;00m\u001b[94m\"summary\"\u001b[39;49;00m:\u001b[37m \u001b[39;49;00m\u001b[33m\"Join your friends and discover videos you love, only on TikTok\"\u001b[39;49;00m,\u001b[37m\u001b[39;49;00m\n",
      "\u001b[37m  \u001b[39;49;00m\u001b[94m\"title\"\u001b[39;49;00m:\u001b[37m \u001b[39;49;00m\u001b[33m\"TikTok\"\u001b[39;49;00m,\u001b[37m\u001b[39;49;00m\n",
      "\u001b[37m  \u001b[39;49;00m\u001b[94m\"updated\"\u001b[39;49;00m:\u001b[37m \u001b[39;49;00m\u001b[34m1714056141\u001b[39;49;00m,\u001b[37m\u001b[39;49;00m\n",
      "\u001b[37m  \u001b[39;49;00m\u001b[94m\"url\"\u001b[39;49;00m:\u001b[37m \u001b[39;49;00m\u001b[33m\"https://play.google.com/store/apps/details?id=com.zhiliaoapp.musically&hl=en&gl=us\"\u001b[39;49;00m,\u001b[37m\u001b[39;49;00m\n",
      "\u001b[37m  \u001b[39;49;00m\u001b[94m\"version\"\u001b[39;49;00m:\u001b[37m \u001b[39;49;00m\u001b[34mnull\u001b[39;49;00m,\u001b[37m\u001b[39;49;00m\n",
      "\u001b[37m  \u001b[39;49;00m\u001b[94m\"video\"\u001b[39;49;00m:\u001b[37m \u001b[39;49;00m\u001b[34mnull\u001b[39;49;00m,\u001b[37m\u001b[39;49;00m\n",
      "\u001b[37m  \u001b[39;49;00m\u001b[94m\"videoImage\"\u001b[39;49;00m:\u001b[37m \u001b[39;49;00m\u001b[34mnull\u001b[39;49;00m\u001b[37m\u001b[39;49;00m\n",
      "}\u001b[37m\u001b[39;49;00m\n",
      "\n"
     ]
    }
   ],
   "source": [
    "print_json(app_infos[0])"
   ]
  },
  {
   "cell_type": "code",
   "execution_count": 32,
   "id": "b6a50436",
   "metadata": {
    "ExecuteTime": {
     "end_time": "2024-04-25T22:33:11.971399Z",
     "start_time": "2024-04-25T22:33:11.966217Z"
    }
   },
   "outputs": [],
   "source": [
    "# visualize icons of the apps\n",
    "def plot_icons(app_infos):\n",
    "    fig, axs = plt.subplots(2, len(app_infos) // 2, figsize=(14,3))\n",
    "    fig.tight_layout()\n",
    "    \n",
    "    for i, ax in enumerate(axs.flat):\n",
    "        apps = app_infos[i]\n",
    "        img = np.array(Image.open(urllib.request.urlopen(apps['icon'])))\n",
    "        ax.imshow(img)\n",
    "        ax.set_title(apps['title'])\n",
    "        ax.axis('off')"
   ]
  },
  {
   "cell_type": "code",
   "execution_count": 33,
   "id": "00906960",
   "metadata": {
    "ExecuteTime": {
     "end_time": "2024-04-25T22:33:17.740208Z",
     "start_time": "2024-04-25T22:33:12.321560Z"
    }
   },
   "outputs": [
    {
     "data": {
      "image/png": "[encoded data removed]",
      "text/plain": [
       "<Figure size 1400x300 with 10 Axes>"
      ]
     },
     "metadata": {},
     "output_type": "display_data"
    }
   ],
   "source": [
    "plot_icons(app_infos)"
   ]
  },
  {
   "cell_type": "code",
   "execution_count": 34,
   "id": "164d20e2",
   "metadata": {
    "ExecuteTime": {
     "end_time": "2024-04-25T22:35:04.186219Z",
     "start_time": "2024-04-25T22:35:04.108195Z"
    }
   },
   "outputs": [
    {
     "data": {
      "text/html": [
       "<div>\n",
       "<style scoped>\n",
       "    .dataframe tbody tr th:only-of-type {\n",
       "        vertical-align: middle;\n",
       "    }\n",
       "\n",
       "    .dataframe tbody tr th {\n",
       "        vertical-align: top;\n",
       "    }\n",
       "\n",
       "    .dataframe thead th {\n",
       "        text-align: right;\n",
       "    }\n",
       "</style>\n",
       "<table border=\"1\" class=\"dataframe\">\n",
       "  <thead>\n",
       "    <tr style=\"text-align: right;\">\n",
       "      <th></th>\n",
       "      <th>title</th>\n",
       "      <th>description</th>\n",
       "      <th>descriptionHTML</th>\n",
       "      <th>summary</th>\n",
       "      <th>installs</th>\n",
       "      <th>minInstalls</th>\n",
       "      <th>realInstalls</th>\n",
       "      <th>score</th>\n",
       "      <th>ratings</th>\n",
       "      <th>reviews</th>\n",
       "      <th>...</th>\n",
       "      <th>contentRating</th>\n",
       "      <th>contentRatingDescription</th>\n",
       "      <th>adSupported</th>\n",
       "      <th>containsAds</th>\n",
       "      <th>released</th>\n",
       "      <th>lastUpdatedOn</th>\n",
       "      <th>updated</th>\n",
       "      <th>version</th>\n",
       "      <th>appId</th>\n",
       "      <th>url</th>\n",
       "    </tr>\n",
       "  </thead>\n",
       "  <tbody>\n",
       "    <tr>\n",
       "      <th>0</th>\n",
       "      <td>TikTok</td>\n",
       "      <td>TikTok is THE destination for mobile videos. O...</td>\n",
       "      <td>TikTok is THE destination for mobile videos. O...</td>\n",
       "      <td>Join your friends and discover videos you love...</td>\n",
       "      <td>1,000,000,000+</td>\n",
       "      <td>1000000000</td>\n",
       "      <td>3079207043</td>\n",
       "      <td>4.238541</td>\n",
       "      <td>62516921</td>\n",
       "      <td>2185222</td>\n",
       "      <td>...</td>\n",
       "      <td>Teen</td>\n",
       "      <td>None</td>\n",
       "      <td>True</td>\n",
       "      <td>True</td>\n",
       "      <td>Jul 9, 2015</td>\n",
       "      <td>Apr 25, 2024</td>\n",
       "      <td>1714056141</td>\n",
       "      <td>None</td>\n",
       "      <td>com.zhiliaoapp.musically</td>\n",
       "      <td>https://play.google.com/store/apps/details?id=...</td>\n",
       "    </tr>\n",
       "    <tr>\n",
       "      <th>1</th>\n",
       "      <td>Instagram</td>\n",
       "      <td>Little moments lead to big friendships. Share ...</td>\n",
       "      <td>Little moments lead to big friendships. Share ...</td>\n",
       "      <td>Create &amp; share photos, stories, &amp; reels with f...</td>\n",
       "      <td>5,000,000,000+</td>\n",
       "      <td>5000000000</td>\n",
       "      <td>5497942600</td>\n",
       "      <td>4.035190</td>\n",
       "      <td>152859911</td>\n",
       "      <td>4500205</td>\n",
       "      <td>...</td>\n",
       "      <td>Teen</td>\n",
       "      <td>None</td>\n",
       "      <td>True</td>\n",
       "      <td>True</td>\n",
       "      <td>Apr 3, 2012</td>\n",
       "      <td>Apr 23, 2024</td>\n",
       "      <td>1713882324</td>\n",
       "      <td>None</td>\n",
       "      <td>com.instagram.android</td>\n",
       "      <td>https://play.google.com/store/apps/details?id=...</td>\n",
       "    </tr>\n",
       "    <tr>\n",
       "      <th>2</th>\n",
       "      <td>Messenger</td>\n",
       "      <td>Be together whenever, with our free* all-in-on...</td>\n",
       "      <td>Be together whenever, with our free* all-in-on...</td>\n",
       "      <td>Free group video chat, video calls, voice call...</td>\n",
       "      <td>5,000,000,000+</td>\n",
       "      <td>5000000000</td>\n",
       "      <td>6472690505</td>\n",
       "      <td>4.084818</td>\n",
       "      <td>88865344</td>\n",
       "      <td>2404460</td>\n",
       "      <td>...</td>\n",
       "      <td>Everyone</td>\n",
       "      <td>None</td>\n",
       "      <td>False</td>\n",
       "      <td>False</td>\n",
       "      <td>Jan 30, 2014</td>\n",
       "      <td>Apr 23, 2024</td>\n",
       "      <td>1713878927</td>\n",
       "      <td>None</td>\n",
       "      <td>com.facebook.orca</td>\n",
       "      <td>https://play.google.com/store/apps/details?id=...</td>\n",
       "    </tr>\n",
       "  </tbody>\n",
       "</table>\n",
       "<p>3 rows × 44 columns</p>\n",
       "</div>"
      ],
      "text/plain": [
       "       title                                        description  \\\n",
       "0     TikTok  TikTok is THE destination for mobile videos. O...   \n",
       "1  Instagram  Little moments lead to big friendships. Share ...   \n",
       "2  Messenger  Be together whenever, with our free* all-in-on...   \n",
       "\n",
       "                                     descriptionHTML  \\\n",
       "0  TikTok is THE destination for mobile videos. O...   \n",
       "1  Little moments lead to big friendships. Share ...   \n",
       "2  Be together whenever, with our free* all-in-on...   \n",
       "\n",
       "                                             summary        installs  \\\n",
       "0  Join your friends and discover videos you love...  1,000,000,000+   \n",
       "1  Create & share photos, stories, & reels with f...  5,000,000,000+   \n",
       "2  Free group video chat, video calls, voice call...  5,000,000,000+   \n",
       "\n",
       "   minInstalls  realInstalls     score    ratings  reviews  ... contentRating  \\\n",
       "0   1000000000    3079207043  4.238541   62516921  2185222  ...          Teen   \n",
       "1   5000000000    5497942600  4.035190  152859911  4500205  ...          Teen   \n",
       "2   5000000000    6472690505  4.084818   88865344  2404460  ...      Everyone   \n",
       "\n",
       "   contentRatingDescription  adSupported containsAds      released  \\\n",
       "0                      None         True        True   Jul 9, 2015   \n",
       "1                      None         True        True   Apr 3, 2012   \n",
       "2                      None        False       False  Jan 30, 2014   \n",
       "\n",
       "  lastUpdatedOn     updated version                     appId  \\\n",
       "0  Apr 25, 2024  1714056141    None  com.zhiliaoapp.musically   \n",
       "1  Apr 23, 2024  1713882324    None     com.instagram.android   \n",
       "2  Apr 23, 2024  1713878927    None         com.facebook.orca   \n",
       "\n",
       "                                                 url  \n",
       "0  https://play.google.com/store/apps/details?id=...  \n",
       "1  https://play.google.com/store/apps/details?id=...  \n",
       "2  https://play.google.com/store/apps/details?id=...  \n",
       "\n",
       "[3 rows x 44 columns]"
      ]
     },
     "execution_count": 34,
     "metadata": {},
     "output_type": "execute_result"
    }
   ],
   "source": [
    "# turn data into dataframe\n",
    "app_infos_df = pd.DataFrame(app_infos)\n",
    "app_infos_df.head(3)"
   ]
  },
  {
   "cell_type": "code",
   "execution_count": 35,
   "id": "b159676c",
   "metadata": {
    "ExecuteTime": {
     "end_time": "2024-04-25T22:37:07.828314Z",
     "start_time": "2024-04-25T22:37:07.813083Z"
    }
   },
   "outputs": [],
   "source": [
    "# save it as csv file\n",
    "app_infos_df.to_csv('apps.csv',index=None,header=True)"
   ]
  },
  {
   "cell_type": "markdown",
   "id": "fa77dbe5",
   "metadata": {},
   "source": [
    "# Get App Reviews"
   ]
  },
  {
   "cell_type": "code",
   "execution_count": 39,
   "id": "2f623fcb",
   "metadata": {
    "ExecuteTime": {
     "end_time": "2024-04-25T22:58:39.651931Z",
     "start_time": "2024-04-25T22:57:13.043111Z"
    }
   },
   "outputs": [
    {
     "name": "stderr",
     "output_type": "stream",
     "text": [
      "100%|██████████████████████████████████████████████████████████████████████████████████| 10/10 [01:26<00:00,  8.66s/it]\n"
     ]
    }
   ],
   "source": [
    "# take the most relevant and newest reviews\n",
    "'''\n",
    "    Score\n",
    "    1 --> 2 'NEGATIVE'\n",
    "    3       'NEUTRAL'\n",
    "    4 --> 5 'POSITIVE'\n",
    "'''\n",
    "app_reviews = []\n",
    "\n",
    "for ap in tqdm(app_packages):\n",
    "    for score in range(1,6):\n",
    "        for sort_order in [Sort.MOST_RELEVANT, Sort.NEWEST]:\n",
    "            rvs = reviews(\n",
    "                ap,\n",
    "                lang='en',\n",
    "                country='us',\n",
    "                sort=sort_order,\n",
    "                count=200 if score==3 else 100, # to overcome imbalance data problems\n",
    "                filter_score_with=score\n",
    "            )[0]\n",
    "            \n",
    "            for r in rvs:\n",
    "                r['sortOrder'] = 'most_relevant' if sort_order == Sort.MOST_RELEVANT else 'newest'\n",
    "                r['appId'] = ap\n",
    "            app_reviews.extend(rvs)"
   ]
  },
  {
   "cell_type": "code",
   "execution_count": 40,
   "id": "f945f36d",
   "metadata": {
    "ExecuteTime": {
     "end_time": "2024-04-25T22:59:46.341543Z",
     "start_time": "2024-04-25T22:59:46.337555Z"
    }
   },
   "outputs": [
    {
     "name": "stdout",
     "output_type": "stream",
     "text": [
      "{\u001b[37m\u001b[39;49;00m\n",
      "\u001b[37m  \u001b[39;49;00m\u001b[94m\"appId\"\u001b[39;49;00m:\u001b[37m \u001b[39;49;00m\u001b[33m\"com.zhiliaoapp.musically\"\u001b[39;49;00m,\u001b[37m\u001b[39;49;00m\n",
      "\u001b[37m  \u001b[39;49;00m\u001b[94m\"appVersion\"\u001b[39;49;00m:\u001b[37m \u001b[39;49;00m\u001b[33m\"34.1.5\"\u001b[39;49;00m,\u001b[37m\u001b[39;49;00m\n",
      "\u001b[37m  \u001b[39;49;00m\u001b[94m\"at\"\u001b[39;49;00m:\u001b[37m \u001b[39;49;00m\u001b[33m\"2024-04-02 02:24:32\"\u001b[39;49;00m,\u001b[37m\u001b[39;49;00m\n",
      "\u001b[37m  \u001b[39;49;00m\u001b[94m\"content\"\u001b[39;49;00m:\u001b[37m \u001b[39;49;00m\u001b[33m\"Was great until a month or so ago. Videos have constantly freezing, lagging, and just not playing at all. I have tried everything. I forced stopped tiktok and cleared the app cache and the app data. I uninstalled and reinstalled the app. I restarted my phone and cleared out about 20 GB of the general storage. I checked my Internet connection. Absolutely nothing worked. I put in a support ticket but received nothing back within the supposed \\\"1-4 business days\\\" that it takes to get a response.\"\u001b[39;49;00m,\u001b[37m\u001b[39;49;00m\n",
      "\u001b[37m  \u001b[39;49;00m\u001b[94m\"repliedAt\"\u001b[39;49;00m:\u001b[37m \u001b[39;49;00m\u001b[34mnull\u001b[39;49;00m,\u001b[37m\u001b[39;49;00m\n",
      "\u001b[37m  \u001b[39;49;00m\u001b[94m\"replyContent\"\u001b[39;49;00m:\u001b[37m \u001b[39;49;00m\u001b[34mnull\u001b[39;49;00m,\u001b[37m\u001b[39;49;00m\n",
      "\u001b[37m  \u001b[39;49;00m\u001b[94m\"reviewCreatedVersion\"\u001b[39;49;00m:\u001b[37m \u001b[39;49;00m\u001b[33m\"34.1.5\"\u001b[39;49;00m,\u001b[37m\u001b[39;49;00m\n",
      "\u001b[37m  \u001b[39;49;00m\u001b[94m\"reviewId\"\u001b[39;49;00m:\u001b[37m \u001b[39;49;00m\u001b[33m\"190fb97c-b5a0-451f-94d0-a08529ec9746\"\u001b[39;49;00m,\u001b[37m\u001b[39;49;00m\n",
      "\u001b[37m  \u001b[39;49;00m\u001b[94m\"score\"\u001b[39;49;00m:\u001b[37m \u001b[39;49;00m\u001b[34m1\u001b[39;49;00m,\u001b[37m\u001b[39;49;00m\n",
      "\u001b[37m  \u001b[39;49;00m\u001b[94m\"sortOrder\"\u001b[39;49;00m:\u001b[37m \u001b[39;49;00m\u001b[33m\"most_relevant\"\u001b[39;49;00m,\u001b[37m\u001b[39;49;00m\n",
      "\u001b[37m  \u001b[39;49;00m\u001b[94m\"thumbsUpCount\"\u001b[39;49;00m:\u001b[37m \u001b[39;49;00m\u001b[34m4911\u001b[39;49;00m,\u001b[37m\u001b[39;49;00m\n",
      "\u001b[37m  \u001b[39;49;00m\u001b[94m\"userImage\"\u001b[39;49;00m:\u001b[37m \u001b[39;49;00m\u001b[33m\"https://play-lh.googleusercontent.com/a/ACg8ocI9FhqRG2s9pVVeDQlgKE2FWI8MjbsM75K8gTwr_MekBC30kw=mo\"\u001b[39;49;00m,\u001b[37m\u001b[39;49;00m\n",
      "\u001b[37m  \u001b[39;49;00m\u001b[94m\"userName\"\u001b[39;49;00m:\u001b[37m \u001b[39;49;00m\u001b[33m\"Mirage Abramowicz\"\u001b[39;49;00m\u001b[37m\u001b[39;49;00m\n",
      "}\u001b[37m\u001b[39;49;00m\n",
      "\n"
     ]
    }
   ],
   "source": [
    "print_json(app_reviews[0])"
   ]
  },
  {
   "cell_type": "code",
   "execution_count": 42,
   "id": "4992d7f5",
   "metadata": {
    "ExecuteTime": {
     "end_time": "2024-04-25T23:01:45.525759Z",
     "start_time": "2024-04-25T23:01:45.491525Z"
    }
   },
   "outputs": [
    {
     "name": "stdout",
     "output_type": "stream",
     "text": [
      "Number of reviews = 11991\n"
     ]
    }
   ],
   "source": [
    "app_reviews_df = pd.DataFrame(app_reviews)\n",
    "print(f\"Number of reviews = {app_reviews_df.shape[0]}\")"
   ]
  },
  {
   "cell_type": "code",
   "execution_count": 43,
   "id": "7f86a666",
   "metadata": {
    "ExecuteTime": {
     "end_time": "2024-04-25T23:02:03.289629Z",
     "start_time": "2024-04-25T23:02:03.277899Z"
    }
   },
   "outputs": [
    {
     "data": {
      "text/html": [
       "<div>\n",
       "<style scoped>\n",
       "    .dataframe tbody tr th:only-of-type {\n",
       "        vertical-align: middle;\n",
       "    }\n",
       "\n",
       "    .dataframe tbody tr th {\n",
       "        vertical-align: top;\n",
       "    }\n",
       "\n",
       "    .dataframe thead th {\n",
       "        text-align: right;\n",
       "    }\n",
       "</style>\n",
       "<table border=\"1\" class=\"dataframe\">\n",
       "  <thead>\n",
       "    <tr style=\"text-align: right;\">\n",
       "      <th></th>\n",
       "      <th>reviewId</th>\n",
       "      <th>userName</th>\n",
       "      <th>userImage</th>\n",
       "      <th>content</th>\n",
       "      <th>score</th>\n",
       "      <th>thumbsUpCount</th>\n",
       "      <th>reviewCreatedVersion</th>\n",
       "      <th>at</th>\n",
       "      <th>replyContent</th>\n",
       "      <th>repliedAt</th>\n",
       "      <th>appVersion</th>\n",
       "      <th>sortOrder</th>\n",
       "      <th>appId</th>\n",
       "    </tr>\n",
       "  </thead>\n",
       "  <tbody>\n",
       "    <tr>\n",
       "      <th>0</th>\n",
       "      <td>190fb97c-b5a0-451f-94d0-a08529ec9746</td>\n",
       "      <td>Mirage Abramowicz</td>\n",
       "      <td>https://play-lh.googleusercontent.com/a/ACg8oc...</td>\n",
       "      <td>Was great until a month or so ago. Videos have...</td>\n",
       "      <td>1</td>\n",
       "      <td>4911</td>\n",
       "      <td>34.1.5</td>\n",
       "      <td>2024-04-02 02:24:32</td>\n",
       "      <td>None</td>\n",
       "      <td>NaT</td>\n",
       "      <td>34.1.5</td>\n",
       "      <td>most_relevant</td>\n",
       "      <td>com.zhiliaoapp.musically</td>\n",
       "    </tr>\n",
       "    <tr>\n",
       "      <th>1</th>\n",
       "      <td>6a13f634-bf33-456b-9410-ed944c1dc4fc</td>\n",
       "      <td>Rashelley Morgan</td>\n",
       "      <td>https://play-lh.googleusercontent.com/a-/ALV-U...</td>\n",
       "      <td>I'm tired of tiktok messing up my edits. Eithe...</td>\n",
       "      <td>1</td>\n",
       "      <td>572</td>\n",
       "      <td>34.1.5</td>\n",
       "      <td>2024-04-08 18:02:30</td>\n",
       "      <td>None</td>\n",
       "      <td>NaT</td>\n",
       "      <td>34.1.5</td>\n",
       "      <td>most_relevant</td>\n",
       "      <td>com.zhiliaoapp.musically</td>\n",
       "    </tr>\n",
       "    <tr>\n",
       "      <th>2</th>\n",
       "      <td>3abea28d-c039-4762-a26d-4168e22c3951</td>\n",
       "      <td>Robert Barlow</td>\n",
       "      <td>https://play-lh.googleusercontent.com/a-/ALV-U...</td>\n",
       "      <td>This is getting less and less optimized for my...</td>\n",
       "      <td>1</td>\n",
       "      <td>18292</td>\n",
       "      <td>33.2.5</td>\n",
       "      <td>2024-02-01 15:48:31</td>\n",
       "      <td>None</td>\n",
       "      <td>NaT</td>\n",
       "      <td>33.2.5</td>\n",
       "      <td>most_relevant</td>\n",
       "      <td>com.zhiliaoapp.musically</td>\n",
       "    </tr>\n",
       "  </tbody>\n",
       "</table>\n",
       "</div>"
      ],
      "text/plain": [
       "                               reviewId           userName  \\\n",
       "0  190fb97c-b5a0-451f-94d0-a08529ec9746  Mirage Abramowicz   \n",
       "1  6a13f634-bf33-456b-9410-ed944c1dc4fc   Rashelley Morgan   \n",
       "2  3abea28d-c039-4762-a26d-4168e22c3951      Robert Barlow   \n",
       "\n",
       "                                           userImage  \\\n",
       "0  https://play-lh.googleusercontent.com/a/ACg8oc...   \n",
       "1  https://play-lh.googleusercontent.com/a-/ALV-U...   \n",
       "2  https://play-lh.googleusercontent.com/a-/ALV-U...   \n",
       "\n",
       "                                             content  score  thumbsUpCount  \\\n",
       "0  Was great until a month or so ago. Videos have...      1           4911   \n",
       "1  I'm tired of tiktok messing up my edits. Eithe...      1            572   \n",
       "2  This is getting less and less optimized for my...      1          18292   \n",
       "\n",
       "  reviewCreatedVersion                  at replyContent repliedAt appVersion  \\\n",
       "0               34.1.5 2024-04-02 02:24:32         None       NaT     34.1.5   \n",
       "1               34.1.5 2024-04-08 18:02:30         None       NaT     34.1.5   \n",
       "2               33.2.5 2024-02-01 15:48:31         None       NaT     33.2.5   \n",
       "\n",
       "       sortOrder                     appId  \n",
       "0  most_relevant  com.zhiliaoapp.musically  \n",
       "1  most_relevant  com.zhiliaoapp.musically  \n",
       "2  most_relevant  com.zhiliaoapp.musically  "
      ]
     },
     "execution_count": 43,
     "metadata": {},
     "output_type": "execute_result"
    }
   ],
   "source": [
    "app_reviews_df.head(3)"
   ]
  },
  {
   "cell_type": "code",
   "execution_count": 44,
   "id": "62f7e6a1",
   "metadata": {
    "ExecuteTime": {
     "end_time": "2024-04-25T23:02:40.001630Z",
     "start_time": "2024-04-25T23:02:39.741276Z"
    }
   },
   "outputs": [],
   "source": [
    "app_reviews_df.to_csv('reviews.csv', index=None, header=True)"
   ]
  },
  {
   "cell_type": "code",
   "execution_count": 1,
   "id": "905879ee",
   "metadata": {
    "ExecuteTime": {
     "end_time": "2024-04-30T22:34:20.487554Z",
     "start_time": "2024-04-30T22:34:20.483210Z"
    }
   },
   "outputs": [],
   "source": [
    "def to_sentiment(rating):\n",
    "    '''\n",
    "    classify sentiment into 3 categories\n",
    "    '''\n",
    "    rating = int(rating)\n",
    "    if rating <= 2:\n",
    "        return 0 # negative review\n",
    "    elif rating == 3:\n",
    "        return 1 # neutral review\n",
    "    else:\n",
    "        return 2 # positive review"
   ]
  },
  {
   "cell_type": "code",
   "execution_count": 7,
   "id": "baefb10e",
   "metadata": {
    "ExecuteTime": {
     "end_time": "2024-04-30T22:38:38.724406Z",
     "start_time": "2024-04-30T22:38:38.544756Z"
    }
   },
   "outputs": [],
   "source": [
    "reviews_df = pd.read_csv('reviews.csv')\n",
    "reviews_df['sentiment'] = reviews_df.score.apply(to_sentiment)\n",
    "class_names = ['negative', 'neutral', 'positive']\n",
    "columns = ['content', 'sentiment']\n",
    "data = pd.DataFrame(reviews_df, columns=columns)\n",
    "data.to_csv('data.csv', index=None, header=True)\n",
    "data = pd.read_csv('data.csv')"
   ]
  },
  {
   "cell_type": "code",
   "execution_count": 9,
   "id": "6117ab71",
   "metadata": {
    "ExecuteTime": {
     "end_time": "2024-04-30T22:40:39.166438Z",
     "start_time": "2024-04-30T22:40:39.159080Z"
    }
   },
   "outputs": [
    {
     "data": {
      "text/html": [
       "<div>\n",
       "<style scoped>\n",
       "    .dataframe tbody tr th:only-of-type {\n",
       "        vertical-align: middle;\n",
       "    }\n",
       "\n",
       "    .dataframe tbody tr th {\n",
       "        vertical-align: top;\n",
       "    }\n",
       "\n",
       "    .dataframe thead th {\n",
       "        text-align: right;\n",
       "    }\n",
       "</style>\n",
       "<table border=\"1\" class=\"dataframe\">\n",
       "  <thead>\n",
       "    <tr style=\"text-align: right;\">\n",
       "      <th></th>\n",
       "      <th>content</th>\n",
       "      <th>sentiment</th>\n",
       "    </tr>\n",
       "  </thead>\n",
       "  <tbody>\n",
       "    <tr>\n",
       "      <th>10012</th>\n",
       "      <td>It's a decent app in terms of roleplaying with...</td>\n",
       "      <td>1</td>\n",
       "    </tr>\n",
       "    <tr>\n",
       "      <th>2680</th>\n",
       "      <td>Dear Meta, The end-to-end encrypted is INCONVE...</td>\n",
       "      <td>0</td>\n",
       "    </tr>\n",
       "    <tr>\n",
       "      <th>9016</th>\n",
       "      <td>It's so wow</td>\n",
       "      <td>1</td>\n",
       "    </tr>\n",
       "    <tr>\n",
       "      <th>3696</th>\n",
       "      <td>Everything is going well, except for sharing i...</td>\n",
       "      <td>0</td>\n",
       "    </tr>\n",
       "    <tr>\n",
       "      <th>1522</th>\n",
       "      <td>My account has been hacked and my new account ...</td>\n",
       "      <td>0</td>\n",
       "    </tr>\n",
       "    <tr>\n",
       "      <th>5821</th>\n",
       "      <td>An excellent app with a very small issue that ...</td>\n",
       "      <td>2</td>\n",
       "    </tr>\n",
       "    <tr>\n",
       "      <th>4632</th>\n",
       "      <td>I see! You want me to rate the WhatsApp app fo...</td>\n",
       "      <td>2</td>\n",
       "    </tr>\n",
       "    <tr>\n",
       "      <th>11747</th>\n",
       "      <td>It is quite beneficial and informative.</td>\n",
       "      <td>2</td>\n",
       "    </tr>\n",
       "    <tr>\n",
       "      <th>1436</th>\n",
       "      <td>It's nice to use for chat and to post from my ...</td>\n",
       "      <td>0</td>\n",
       "    </tr>\n",
       "    <tr>\n",
       "      <th>1170</th>\n",
       "      <td>Grateful 🥰 app</td>\n",
       "      <td>2</td>\n",
       "    </tr>\n",
       "  </tbody>\n",
       "</table>\n",
       "</div>"
      ],
      "text/plain": [
       "                                                 content  sentiment\n",
       "10012  It's a decent app in terms of roleplaying with...          1\n",
       "2680   Dear Meta, The end-to-end encrypted is INCONVE...          0\n",
       "9016                                         It's so wow          1\n",
       "3696   Everything is going well, except for sharing i...          0\n",
       "1522   My account has been hacked and my new account ...          0\n",
       "5821   An excellent app with a very small issue that ...          2\n",
       "4632   I see! You want me to rate the WhatsApp app fo...          2\n",
       "11747            It is quite beneficial and informative.          2\n",
       "1436   It's nice to use for chat and to post from my ...          0\n",
       "1170                                      Grateful 🥰 app          2"
      ]
     },
     "execution_count": 9,
     "metadata": {},
     "output_type": "execute_result"
    }
   ],
   "source": [
    "data = data.sample(frac = 1)\n",
    "data.head(10)"
   ]
  },
  {
   "cell_type": "code",
   "execution_count": null,
   "id": "b7f51354",
   "metadata": {},
   "outputs": [],
   "source": []
  }
 ],
 "metadata": {
  "kernelspec": {
   "display_name": "Python 3 (ipykernel)",
   "language": "python",
   "name": "python3"
  },
  "language_info": {
   "codemirror_mode": {
    "name": "ipython",
    "version": 3
   },
   "file_extension": ".py",
   "mimetype": "text/x-python",
   "name": "python",
   "nbconvert_exporter": "python",
   "pygments_lexer": "ipython3",
   "version": "3.11.8"
  },
  "varInspector": {
   "cols": {
    "lenName": 16,
    "lenType": 16,
    "lenVar": 40
   },
   "kernels_config": {
    "python": {
     "delete_cmd_postfix": "",
     "delete_cmd_prefix": "del ",
     "library": "var_list.py",
     "varRefreshCmd": "print(var_dic_list())"
    },
    "r": {
     "delete_cmd_postfix": ") ",
     "delete_cmd_prefix": "rm(",
     "library": "var_list.r",
     "varRefreshCmd": "cat(var_dic_list()) "
    }
   },
   "types_to_exclude": [
    "module",
    "function",
    "builtin_function_or_method",
    "instance",
    "_Feature"
   ],
   "window_display": false
  }
 },
 "nbformat": 4,
 "nbformat_minor": 5
}
